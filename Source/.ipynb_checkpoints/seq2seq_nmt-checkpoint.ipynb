{
 "cells": [
  {
   "cell_type": "markdown",
   "metadata": {},
   "source": [
    "# <center>Sequence to Sequence Learning with Neural Networks</center>\n",
    "<center> <strong> Submitted By : Aniruddha P. Deshpande (20161058) </strong> </center>\n",
    "<center> <strong> Reference : </strong>\n",
    "<a href=\"https://pytorch.org/tutorials/intermediate/seq2seq_translation_tutorial.html\" title=\"Pytorch Seq2Seq NMT Tutorial\">Pytorch Seq2Seq NMT Tutorial</a>  </center>"
   ]
  },
  {
   "cell_type": "markdown",
   "metadata": {},
   "source": [
    "### 1. Importing Libraries"
   ]
  },
  {
   "cell_type": "code",
   "execution_count": 1,
   "metadata": {},
   "outputs": [],
   "source": [
    "from __future__ import unicode_literals, print_function, division\n",
    "from io import open\n",
    "import unicodedata\n",
    "import string\n",
    "import re\n",
    "import random\n",
    "\n",
    "import time\n",
    "import math\n",
    "\n",
    "import torch\n",
    "import torch.nn as nn\n",
    "from torch import optim\n",
    "import torch.nn.functional as F\n",
    "\n",
    "device = torch.device(\"cuda\" if torch.cuda.is_available() else \"cpu\")"
   ]
  },
  {
   "cell_type": "markdown",
   "metadata": {},
   "source": [
    "### 2. Defining language class for Input and Output languages"
   ]
  },
  {
   "cell_type": "code",
   "execution_count": 2,
   "metadata": {},
   "outputs": [],
   "source": [
    "SOS_token = 0\n",
    "EOS_token = 1\n",
    "\n",
    "MAX_LENGTH = 109\n",
    "\n",
    "class Lang:\n",
    "    def __init__(self, name):\n",
    "        self.name = name\n",
    "        self.word2index = {}\n",
    "        self.word2count = {}\n",
    "        self.index2word = {0: \"SOS\", 1: \"EOS\"}\n",
    "        self.n_words = 2  # Count SOS and EOS\n",
    "\n",
    "    def addSentence(self, sentence):\n",
    "        for word in sentence.split(' '):\n",
    "            self.addWord(word)\n",
    "\n",
    "    def addWord(self, word):\n",
    "        if word not in self.word2index:\n",
    "            self.word2index[word] = self.n_words\n",
    "            self.word2count[word] = 1\n",
    "            self.index2word[self.n_words] = word\n",
    "            self.n_words += 1\n",
    "        else:\n",
    "            self.word2count[word] += 1"
   ]
  },
  {
   "cell_type": "markdown",
   "metadata": {},
   "source": [
    "### 3. Text preprocessing functions"
   ]
  },
  {
   "cell_type": "code",
   "execution_count": 3,
   "metadata": {},
   "outputs": [],
   "source": [
    "# Turn a Unicode string to plain ASCII\n",
    "def unicodeToAscii(s):\n",
    "    return ''.join(\n",
    "        c for c in unicodedata.normalize('NFD', s)\n",
    "        if unicodedata.category(c) != 'Mn'\n",
    "    )\n",
    "\n",
    "# Lowercase, trim, and remove non-letter characters\n",
    "\n",
    "\n",
    "def normalizeString(s):\n",
    "    s = unicodeToAscii(s.lower().strip())\n",
    "    s = re.sub(r\"([.!?])\", r\" \\1\", s)\n",
    "    s = re.sub(r\"[^a-zA-Z.!?]+\", r\" \", s)\n",
    "    return s"
   ]
  },
  {
   "cell_type": "markdown",
   "metadata": {},
   "source": [
    "### 4. Reading Dataset and defining input and output language for the NMT"
   ]
  },
  {
   "cell_type": "markdown",
   "metadata": {},
   "source": [
    "#### 4.1 Function for Reading data using above class Lang"
   ]
  },
  {
   "cell_type": "code",
   "execution_count": 4,
   "metadata": {},
   "outputs": [],
   "source": [
    "def readLangs(lang1, lang2):\n",
    "    lines_lang1 = open('../Data/enghin/train.%s' % lang1, encoding='utf-8').\\\n",
    "        read().strip().split('\\n')\n",
    "    lines_lang2 = open('../Data/enghin/train.%s' % lang2, encoding='utf-8').\\\n",
    "        read().strip().split('\\n')\n",
    "\n",
    "    train_pairs = []\n",
    "\n",
    "    for i in range(0,len(lines_lang1)):\n",
    "        curr_pair = [normalizeString(lines_lang1[i]), lines_lang2[i]]\n",
    "        train_pairs.append(curr_pair)\n",
    "    \n",
    "    input_lang = Lang(lang1)\n",
    "    output_lang = Lang(lang2)\n",
    "    \n",
    "    return input_lang, output_lang, train_pairs"
   ]
  },
  {
   "cell_type": "markdown",
   "metadata": {},
   "source": [
    "#### 4.2 Preparing data using above function"
   ]
  },
  {
   "cell_type": "code",
   "execution_count": 5,
   "metadata": {},
   "outputs": [],
   "source": [
    "def prepareData(lang1, lang2, reverse=False):\n",
    "    input_lang, output_lang, pairs = readLangs(lang1, lang2)\n",
    "    print(\"Read %s sentence pairs\" % len(pairs))\n",
    "    print(\"Counting words...\")\n",
    "    for pair in pairs:\n",
    "        input_lang.addSentence(pair[0])\n",
    "        output_lang.addSentence(pair[1])\n",
    "    print(\"Counted words:\")\n",
    "    print(input_lang.name, input_lang.n_words)\n",
    "    print(output_lang.name, output_lang.n_words)\n",
    "    return input_lang, output_lang, pairs"
   ]
  },
  {
   "cell_type": "code",
   "execution_count": 6,
   "metadata": {},
   "outputs": [
    {
     "name": "stdout",
     "output_type": "stream",
     "text": [
      "Read 49398 sentence pairs\n",
      "Counting words...\n",
      "Counted words:\n",
      "en 29852\n",
      "hi 43667\n"
     ]
    }
   ],
   "source": [
    "input_lang, output_lang, pairs = prepareData('en', 'hi')"
   ]
  },
  {
   "cell_type": "markdown",
   "metadata": {},
   "source": [
    "### 5. Encoder"
   ]
  },
  {
   "cell_type": "code",
   "execution_count": 7,
   "metadata": {},
   "outputs": [],
   "source": [
    "class EncoderRNN(nn.Module):\n",
    "    def __init__(self, input_size, hidden_size):\n",
    "        super(EncoderRNN, self).__init__()\n",
    "        self.hidden_size = hidden_size\n",
    "\n",
    "        self.embedding = nn.Embedding(input_size, hidden_size)\n",
    "        self.gru = nn.GRU(hidden_size, hidden_size)\n",
    "\n",
    "    def forward(self, input, hidden):\n",
    "        embedded = self.embedding(input).view(1, 1, -1)\n",
    "        output = embedded\n",
    "        output, hidden = self.gru(output, hidden)\n",
    "        return output, hidden\n",
    "\n",
    "    def initHidden(self):\n",
    "        return torch.zeros(1, 1, self.hidden_size, device=device)"
   ]
  },
  {
   "cell_type": "markdown",
   "metadata": {},
   "source": [
    "### 6. Decoder"
   ]
  },
  {
   "cell_type": "code",
   "execution_count": 8,
   "metadata": {},
   "outputs": [],
   "source": [
    "class DecoderRNN(nn.Module):\n",
    "    def __init__(self, hidden_size, output_size):\n",
    "        super(DecoderRNN, self).__init__()\n",
    "        self.hidden_size = hidden_size\n",
    "\n",
    "        self.embedding = nn.Embedding(output_size, hidden_size)\n",
    "        self.gru = nn.GRU(hidden_size, hidden_size)\n",
    "        self.out = nn.Linear(hidden_size, output_size)\n",
    "        self.softmax = nn.LogSoftmax(dim=1)\n",
    "\n",
    "    def forward(self, input, hidden):\n",
    "        output = self.embedding(input).view(1, 1, -1)\n",
    "        output = F.relu(output)\n",
    "        output, hidden = self.gru(output, hidden)\n",
    "        output = self.softmax(self.out(output[0]))\n",
    "        return output, hidden\n",
    "\n",
    "    def initHidden(self):\n",
    "        return torch.zeros(1, 1, self.hidden_size, device=device)"
   ]
  },
  {
   "cell_type": "markdown",
   "metadata": {},
   "source": [
    "### 7. Training"
   ]
  },
  {
   "cell_type": "markdown",
   "metadata": {},
   "source": [
    "#### 7.1 Preparing Training Data"
   ]
  },
  {
   "cell_type": "code",
   "execution_count": 9,
   "metadata": {},
   "outputs": [],
   "source": [
    "def indexesFromSentence(lang, sentence):\n",
    "    return [lang.word2index[word] for word in sentence.split(' ')]\n",
    "\n",
    "\n",
    "def tensorFromSentence(lang, sentence):\n",
    "    indexes = indexesFromSentence(lang, sentence)\n",
    "    indexes.append(EOS_token)\n",
    "    return torch.tensor(indexes, dtype=torch.long, device=device).view(-1, 1)\n",
    "\n",
    "\n",
    "def tensorsFromPair(pair):\n",
    "    input_tensor = tensorFromSentence(input_lang, pair[0])\n",
    "    target_tensor = tensorFromSentence(output_lang, pair[1])\n",
    "    return (input_tensor, target_tensor)"
   ]
  },
  {
   "cell_type": "markdown",
   "metadata": {},
   "source": [
    "#### 7.2 Train function"
   ]
  },
  {
   "cell_type": "code",
   "execution_count": 10,
   "metadata": {},
   "outputs": [],
   "source": [
    "teacher_forcing_ratio = 0.5\n",
    "\n",
    "\n",
    "def train(input_tensor, target_tensor, encoder, decoder, encoder_optimizer, decoder_optimizer, criterion, max_length=MAX_LENGTH):\n",
    "    encoder_hidden = encoder.initHidden()\n",
    "\n",
    "    encoder_optimizer.zero_grad()\n",
    "    decoder_optimizer.zero_grad()\n",
    "\n",
    "    input_length = input_tensor.size(0)\n",
    "    target_length = target_tensor.size(0)\n",
    "\n",
    "    encoder_outputs = torch.zeros(max_length, encoder.hidden_size, device=device)\n",
    "\n",
    "    loss = 0\n",
    "\n",
    "    for ei in range(input_length):\n",
    "        encoder_output, encoder_hidden = encoder(\n",
    "            input_tensor[ei], encoder_hidden)\n",
    "        encoder_outputs[ei] = encoder_output[0, 0]\n",
    "\n",
    "    decoder_input = torch.tensor([[SOS_token]], device=device)\n",
    "\n",
    "    decoder_hidden = encoder_hidden\n",
    "\n",
    "    use_teacher_forcing = True if random.random() < teacher_forcing_ratio else False\n",
    "\n",
    "    if use_teacher_forcing:\n",
    "        # Teacher forcing: Feed the target as the next input\n",
    "        for di in range(target_length):\n",
    "            decoder_output, decoder_hidden = decoder(\n",
    "                decoder_input, decoder_hidden)\n",
    "            loss += criterion(decoder_output, target_tensor[di])\n",
    "            decoder_input = target_tensor[di]  # Teacher forcing\n",
    "\n",
    "    else:\n",
    "        # Without teacher forcing: use its own predictions as the next input\n",
    "        for di in range(target_length):\n",
    "            decoder_output, decoder_hidden = decoder(\n",
    "                decoder_input, decoder_hidden)\n",
    "            topv, topi = decoder_output.topk(1)\n",
    "            decoder_input = topi.squeeze().detach()  # detach from history as input\n",
    "\n",
    "            loss += criterion(decoder_output, target_tensor[di])\n",
    "            if decoder_input.item() == EOS_token:\n",
    "                break\n",
    "\n",
    "    loss.backward()\n",
    "\n",
    "    encoder_optimizer.step()\n",
    "    decoder_optimizer.step()\n",
    "\n",
    "    return loss.item() / target_length"
   ]
  },
  {
   "cell_type": "markdown",
   "metadata": {},
   "source": [
    "#### 7.3 Helper function to display time elapsed"
   ]
  },
  {
   "cell_type": "code",
   "execution_count": 11,
   "metadata": {},
   "outputs": [],
   "source": [
    "def asMinutes(s):\n",
    "    m = math.floor(s / 60)\n",
    "    s -= m * 60\n",
    "    return '%dm %ds' % (m, s)\n",
    "\n",
    "\n",
    "def timeSince(since, percent):\n",
    "    now = time.time()\n",
    "    s = now - since\n",
    "    es = s / (percent)\n",
    "    rs = es - s\n",
    "    return '%s (- %s)' % (asMinutes(s), asMinutes(rs))"
   ]
  },
  {
   "cell_type": "markdown",
   "metadata": {},
   "source": [
    "#### 7.4 Running Training Iterations (Epochs)"
   ]
  },
  {
   "cell_type": "code",
   "execution_count": 12,
   "metadata": {},
   "outputs": [],
   "source": [
    "def trainIters(encoder, decoder, n_iters, print_every=1000, plot_every=100, learning_rate=0.01):\n",
    "    start = time.time()\n",
    "    plot_losses = []\n",
    "    print_loss_total = 0  # Reset every print_every\n",
    "    plot_loss_total = 0  # Reset every plot_every\n",
    "\n",
    "    encoder_optimizer = optim.SGD(encoder.parameters(), lr=learning_rate)\n",
    "    decoder_optimizer = optim.SGD(decoder.parameters(), lr=learning_rate)\n",
    "    training_pairs = [tensorsFromPair(random.choice(pairs))\n",
    "                      for i in range(n_iters)]\n",
    "    criterion = nn.NLLLoss()\n",
    "\n",
    "    for iter in range(1, n_iters + 1):\n",
    "        training_pair = training_pairs[iter - 1]\n",
    "        input_tensor = training_pair[0]\n",
    "        target_tensor = training_pair[1]\n",
    "\n",
    "        loss = train(input_tensor, target_tensor, encoder,\n",
    "                     decoder, encoder_optimizer, decoder_optimizer, criterion)\n",
    "        print_loss_total += loss\n",
    "        plot_loss_total += loss\n",
    "\n",
    "        if iter % print_every == 0:\n",
    "            print_loss_avg = print_loss_total / print_every\n",
    "            print_loss_total = 0\n",
    "            print('%s (%d %d%%) %.4f' % (timeSince(start, iter / n_iters),\n",
    "                                         iter, iter / n_iters * 100, print_loss_avg))\n",
    "\n",
    "        if iter % plot_every == 0:\n",
    "            plot_loss_avg = plot_loss_total / plot_every\n",
    "            plot_losses.append(plot_loss_avg)\n",
    "            plot_loss_total = 0\n",
    "\n",
    "    showPlot(plot_losses)"
   ]
  },
  {
   "cell_type": "markdown",
   "metadata": {},
   "source": [
    "#### 7.5 Plotting Results"
   ]
  },
  {
   "cell_type": "code",
   "execution_count": 13,
   "metadata": {},
   "outputs": [],
   "source": [
    "import matplotlib.pyplot as plt\n",
    "plt.switch_backend('agg')\n",
    "import matplotlib.ticker as ticker\n",
    "import numpy as np\n",
    "\n",
    "\n",
    "def showPlot(points):\n",
    "    plt.figure()\n",
    "    fig, ax = plt.subplots()\n",
    "    # this locator puts ticks at regular intervals\n",
    "    loc = ticker.MultipleLocator(base=0.2)\n",
    "    ax.yaxis.set_major_locator(loc)\n",
    "    plt.plot(points)"
   ]
  },
  {
   "cell_type": "markdown",
   "metadata": {},
   "source": [
    "### 8. Evaluation"
   ]
  },
  {
   "cell_type": "markdown",
   "metadata": {},
   "source": [
    "#### 8.1 Evaluation function"
   ]
  },
  {
   "cell_type": "code",
   "execution_count": 14,
   "metadata": {},
   "outputs": [],
   "source": [
    "def evaluate(encoder, decoder, sentence, max_length=MAX_LENGTH):\n",
    "    with torch.no_grad():\n",
    "        input_tensor = tensorFromSentence(input_lang, sentence)\n",
    "        input_length = input_tensor.size()[0]\n",
    "        encoder_hidden = encoder.initHidden()\n",
    "\n",
    "        encoder_outputs = torch.zeros(max_length, encoder.hidden_size, device=device)\n",
    "\n",
    "        for ei in range(input_length):\n",
    "            encoder_output, encoder_hidden = encoder(input_tensor[ei],\n",
    "                                                     encoder_hidden)\n",
    "            encoder_outputs[ei] += encoder_output[0, 0]\n",
    "\n",
    "        decoder_input = torch.tensor([[SOS_token]], device=device)  # SOS\n",
    "\n",
    "        decoder_hidden = encoder_hidden\n",
    "\n",
    "        decoded_words = []\n",
    "\n",
    "        for di in range(max_length):\n",
    "            decoder_output, decoder_hidden = decoder(\n",
    "                decoder_input, decoder_hidden)\n",
    "            topv, topi = decoder_output.data.topk(1)\n",
    "            if topi.item() == EOS_token:\n",
    "                decoded_words.append('<EOS>')\n",
    "                break\n",
    "            else:\n",
    "                decoded_words.append(output_lang.index2word[topi.item()])\n",
    "\n",
    "            decoder_input = topi.squeeze().detach()\n",
    "\n",
    "        return decoded_words"
   ]
  },
  {
   "cell_type": "markdown",
   "metadata": {},
   "source": [
    "#### 8.2 Evaluating randomly chosen pairs from the training set"
   ]
  },
  {
   "cell_type": "code",
   "execution_count": 15,
   "metadata": {},
   "outputs": [],
   "source": [
    "def evaluateRandomly(encoder, decoder, n=10):\n",
    "    for i in range(n):\n",
    "        pair = random.choice(pairs)\n",
    "        print('>', pair[0])\n",
    "        print('=', pair[1])\n",
    "        output_words = evaluate(encoder, decoder, pair[0])\n",
    "        output_sentence = ' '.join(output_words)\n",
    "        print('<', output_sentence)\n",
    "        print('')"
   ]
  },
  {
   "cell_type": "markdown",
   "metadata": {},
   "source": [
    "### 9. Training the model and then evaluating it using random pairs"
   ]
  },
  {
   "cell_type": "code",
   "execution_count": 16,
   "metadata": {},
   "outputs": [
    {
     "name": "stdout",
     "output_type": "stream",
     "text": [
      "11m 21s (- 158m 59s) (5000 6%) 5.7599\n",
      "23m 7s (- 150m 18s) (10000 13%) 5.6048\n",
      "35m 28s (- 141m 53s) (15000 20%) 5.5917\n",
      "47m 51s (- 131m 35s) (20000 26%) 5.4632\n",
      "60m 23s (- 120m 46s) (25000 33%) 5.3618\n",
      "73m 7s (- 109m 41s) (30000 40%) 5.2741\n",
      "85m 41s (- 97m 56s) (35000 46%) 5.1823\n",
      "98m 1s (- 85m 46s) (40000 53%) 5.1291\n",
      "110m 16s (- 73m 31s) (45000 60%) 5.0701\n",
      "122m 30s (- 61m 15s) (50000 66%) 5.0021\n",
      "134m 57s (- 49m 4s) (55000 73%) 4.9515\n",
      "147m 26s (- 36m 51s) (60000 80%) 4.8928\n",
      "160m 10s (- 24m 38s) (65000 86%) 4.8773\n",
      "172m 47s (- 12m 20s) (70000 93%) 4.8110\n",
      "185m 34s (- 0m 0s) (75000 100%) 4.8061\n"
     ]
    },
    {
     "data": {
      "text/plain": [
       "<Figure size 432x288 with 0 Axes>"
      ]
     },
     "metadata": {},
     "output_type": "display_data"
    },
    {
     "data": {
      "image/png": "[encoded data removed]",
      "text/plain": [
       "<Figure size 432x288 with 1 Axes>"
      ]
     },
     "metadata": {},
     "output_type": "display_data"
    }
   ],
   "source": [
    "hidden_size = 256\n",
    "encoder1 = EncoderRNN(input_lang.n_words, hidden_size).to(device)\n",
    "decoder1 = DecoderRNN(hidden_size, output_lang.n_words).to(device)\n",
    "\n",
    "trainIters(encoder1, decoder1, 75000, print_every=5000)"
   ]
  },
  {
   "cell_type": "code",
   "execution_count": 17,
   "metadata": {},
   "outputs": [
    {
     "name": "stdout",
     "output_type": "stream",
     "text": [
      "> a sacred act it sure is you can also enjoy completely during haridwar trip .\n",
      "= पुण्य तो है ही , हरिद्वार ट्रिप के दौरान आप मस्ती भी पूरा कर सकते हैं ।\n",
      "< एक एक एक एक दौरान भी है यह है के है है । <EOS>\n",
      "\n",
      "> in the lahul area of dharamshal is the pong lake trout and mahasheer fish are found specially in it .\n",
      "= धर्मशाला के लाहुल क्षेत्र में पोंग झील है , इसमें ट्राउट और महासीर मछलियाँ विशेष रूप से पाई जाती हैं ।\n",
      "< इसमें में में में में में में में यह के , है , है में है है है है है । <EOS>\n",
      "\n",
      "> leave this lrb paste applied on the forehead and nose of the child for the entire night .\n",
      "= इस पेस्ट को बच्चे के माथे और नाक पर रात भर लगा रहने दें ।\n",
      "< बच्चे को बच्चे पर बच्चे पर और के पर । <EOS>\n",
      "\n",
      "> many times depression and mania start appearing in one patient only .\n",
      "= कई बार मेनिया व डिप्रेशन दोनों किस्म की बीमारियाँ एक ही मरीज में होने लगती हैं ।\n",
      "< केवल एक बार ही केवल केवल केवल रोगी में ही और में में है । <EOS>\n",
      "\n",
      "> between the sea and greenery the nature has obviously groomed it the city acknowledges its own beauty too .\n",
      "= समुद्र और हरियाली के बीच प्रकृति ने तो इसे सँवारा ही है इस शहर को खुद भी अपनी सुंदरता का अहसास है ।\n",
      "< प्रकृति के बीच के बीच के बीच के , , और , , बीच , है , के , है <EOS>\n",
      "\n",
      "> also with this one can be saved from the restlessness produced due to fast heart rate .\n",
      "= साथ ही इससे तेज हृदय गति से उत्पन्न घबराहट से बचा जा सकता है ।\n",
      "< इससे हृदय से भी भी कारण है है भी । । <EOS>\n",
      "\n",
      "> this reaches to the neighbouring gland of colourless fluid .\n",
      "= यह बगल की रंगहीन द्रव्य वाली ग्रंथि तक पहुँच जाता है ।\n",
      "< यह यह के यह के को तक । । । <EOS>\n",
      "\n",
      "> in the north eastern direction this valley is protected with pangi range .\n",
      "= उत्तर - पूर्वी दिशा में यह घाटी पान्गी श्रृंखला से रक्षित हैं ।\n",
      "< इस घाटी में में में में , में है में है में है है <EOS>\n",
      "\n",
      "> according to the local time there reached singapore at in the evening and disembarked at perth at in night .\n",
      "= देहली से 11 अगस्त 88 की प्रात: साढ़े सात बजे सिंगापुर को चला ।\n",
      "< रात में अनुसार और के में में में में में में में में में में <EOS>\n",
      "\n",
      "> the trimming of palm and dates trees is done properly and regularly with the help of cranes .\n",
      "= पाम और खजूर के वृक्षों की छँटाई , बाकायदा क्रेन के सहारे समय - समय पर की जाती है ।\n",
      "< सूर्य के के और , , , , , और है । है <EOS>\n",
      "\n"
     ]
    }
   ],
   "source": [
    "evaluateRandomly(encoder1, decoder1)"
   ]
  },
  {
   "cell_type": "code",
   "execution_count": 27,
   "metadata": {},
   "outputs": [
    {
     "name": "stderr",
     "output_type": "stream",
     "text": [
      "/home/aniruddha/.local/lib/python3.5/site-packages/torch/serialization.py:251: UserWarning: Couldn't retrieve source code for container of type EncoderRNN. It won't be checked for correctness upon loading.\n",
      "  \"type \" + obj.__name__ + \". It won't be checked \"\n",
      "/home/aniruddha/.local/lib/python3.5/site-packages/torch/serialization.py:251: UserWarning: Couldn't retrieve source code for container of type DecoderRNN. It won't be checked for correctness upon loading.\n",
      "  \"type \" + obj.__name__ + \". It won't be checked \"\n"
     ]
    }
   ],
   "source": [
    "torch.save(encoder1, '../Models/Seq2Seq_NMT/Encoder/eng_to_hin_encoder.pth')\n",
    "torch.save(decoder1, '../Models/Seq2Seq_NMT/Decoder/eng_to_hin_decoder.pth')"
   ]
  },
  {
   "cell_type": "code",
   "execution_count": 28,
   "metadata": {},
   "outputs": [],
   "source": [
    "loaded_encoder = torch.load('../Models/Seq2Seq_NMT/Encoder/eng_to_hin_encoder.pth')\n",
    "loaded_decoder = torch.load('../Models/Seq2Seq_NMT/Decoder/eng_to_hin_decoder.pth')"
   ]
  },
  {
   "cell_type": "code",
   "execution_count": 55,
   "metadata": {},
   "outputs": [
    {
     "name": "stdout",
     "output_type": "stream",
     "text": [
      "> the water collection area of the fort is spread till four kilometres far .\n",
      "= किले का जल संग्रहण क्षेत्र चार किलोमीटर दूर तक फैला है ।\n",
      "< किले के का तक तक तक तक तक तक तक तक तक तक तक किलोमीटर तक है । <EOS>\n",
      "\n",
      "> the velvety grass and colorful flowers of pinjore garden attract the tourists powerfully .\n",
      "= पिंजौर गार्डन की मखमली घास और रंग-बिरंगे फूल पर्यटकों को बरबस ही आकर्षित करते हैं ।\n",
      "< पर्यटकों के पर्यटकों के , और , और पर्यटकों के । है । <EOS>\n",
      "\n",
      "> because rough and lifeless hair grow very less in length .\n",
      "= क्योंकि रूखे और बेजान बाल लंबाई में बहुत कम बढ़ते हैं ।\n",
      "< क्योंकि में में में और कम कम और कम है है । है <EOS>\n",
      "\n",
      "> my reservation was in the tourist house .\n",
      "= उत्तर भारत की जेठ से तपती नगरी सी लगती थी डार्विन ।\n",
      "< पर्यटन के में , में । <EOS>\n",
      "\n",
      "> in this tradition the medicine is made in the ratio of in .\n",
      "= इस पद्धति में मूल औषधि पचास हजार में एक के अनुपात में बनाई जाती है ।\n",
      "< इस औषधि इस औषधि का यह औषधि है । <EOS>\n",
      "\n",
      "> it is called pyrexia in medical terminology .\n",
      "= चिकित्सकीय भाषा में इसे पाइरेक्सिया कहा जाता है ।\n",
      "< इसे में यह में यह कहा जाता कहते हैं । <EOS>\n",
      "\n",
      "> such children must be administered the normal dose of vitamin a .\n",
      "= ऐसे बच्चों को विटामिन ए की सामान्य खुराक दी जानी चाहिए ।\n",
      "< विटामिन ए ए ए , ए , की । । <EOS>\n",
      "\n",
      "> with cough rapid breathing rate and movement of ribs .\n",
      "= खाँसी के साथ तेज श्‍वसन दर तथा पसली चलना ।\n",
      "< साँस और साँस के साथ सेवन करने से साथ ही की <EOS>\n",
      "\n",
      "> van vihar situated near of bhopal city is a different type of zoo .\n",
      "= भोपाल शहर के निकट स्थित वन विहार एक भिन्न किस्म का चिड़ियाघर है ।\n",
      "< एक के के के के के एक एक है के है है है <EOS>\n",
      "\n",
      "> apart from hotel prabhat vihar the government rest house and tourist bungalow are available for stay .\n",
      "= ठहरने के लिए होटल प्रभात विहार के अलावा सरकारी रेस्ट हाउस और टूरिस्ट बंगला उपलब्ध है ।\n",
      "< ठहरने के के , , , , , होटल , लिए होटल , <EOS>\n",
      "\n"
     ]
    }
   ],
   "source": [
    "evaluateRandomly(loaded_encoder, loaded_decoder)"
   ]
  },
  {
   "cell_type": "code",
   "execution_count": null,
   "metadata": {},
   "outputs": [],
   "source": []
  }
 ],
 "metadata": {
  "kernelspec": {
   "display_name": "Python 3",
   "language": "python",
   "name": "python3"
  },
  "language_info": {
   "codemirror_mode": {
    "name": "ipython",
    "version": 3
   },
   "file_extension": ".py",
   "mimetype": "text/x-python",
   "name": "python",
   "nbconvert_exporter": "python",
   "pygments_lexer": "ipython3",
   "version": "3.5.2"
  }
 },
 "nbformat": 4,
 "nbformat_minor": 2
}
